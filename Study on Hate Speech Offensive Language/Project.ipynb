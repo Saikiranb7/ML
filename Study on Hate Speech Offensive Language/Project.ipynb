{
 "cells": [
  {
   "cell_type": "markdown",
   "metadata": {
    "id": "ZxaXS4e1hUdR"
   },
   "source": [
    "### Import Libraries"
   ]
  },
  {
   "cell_type": "code",
   "execution_count": 3,
   "metadata": {
    "id": "kdjNz-UyY3eu"
   },
   "outputs": [],
   "source": [
    "import nltk\n",
    "import re\n",
    "import numpy as np\n",
    "import pandas as pd\n",
    "import matplotlib.pyplot as plt\n",
    "from nltk.stem.porter import PorterStemmer\n",
    "from sklearn.feature_extraction.text import TfidfVectorizer\n",
    "from sklearn.model_selection import cross_val_score, train_test_split\n",
    "from sklearn.linear_model import LogisticRegression\n",
    "from sklearn.svm import LinearSVC, SVC\n",
    "from sklearn.ensemble import RandomForestClassifier\n",
    "from sklearn.metrics import accuracy_score , classification_report, plot_confusion_matrix"
   ]
  },
  {
   "cell_type": "markdown",
   "metadata": {
    "id": "AY9EQsYIhYsI"
   },
   "source": [
    "### Download and Load Stopwords"
   ]
  },
  {
   "cell_type": "code",
   "execution_count": 4,
   "metadata": {
    "colab": {
     "base_uri": "https://localhost:8080/"
    },
    "executionInfo": {
     "elapsed": 616,
     "status": "ok",
     "timestamp": 1614536633075,
     "user": {
      "displayName": "Sai Kiran",
      "photoUrl": "https://lh6.googleusercontent.com/-NpKD7j-5bmw/AAAAAAAAAAI/AAAAAAAAERw/Us3Nh0PvXcY/s64/photo.jpg",
      "userId": "08220908179961508425"
     },
     "user_tz": 300
    },
    "id": "e_P7s6B1bC10",
    "outputId": "11f060b8-070d-4175-ee94-7ce7e0c94fc8"
   },
   "outputs": [
    {
     "name": "stderr",
     "output_type": "stream",
     "text": [
      "[nltk_data] Downloading package stopwords to\n",
      "[nltk_data]     C:\\Users\\sanga\\AppData\\Roaming\\nltk_data...\n",
      "[nltk_data]   Unzipping corpora\\stopwords.zip.\n"
     ]
    },
    {
     "data": {
      "text/plain": [
       "True"
      ]
     },
     "execution_count": 4,
     "metadata": {},
     "output_type": "execute_result"
    }
   ],
   "source": [
    "nltk.download('stopwords')"
   ]
  },
  {
   "cell_type": "markdown",
   "metadata": {
    "id": "IojIT8zwhgH7"
   },
   "source": [
    "### Load Stopwords - English"
   ]
  },
  {
   "cell_type": "code",
   "execution_count": 5,
   "metadata": {
    "id": "-wG62EN0bOJn"
   },
   "outputs": [],
   "source": [
    "from nltk.corpus import stopwords\n",
    "stopwords = stopwords.words('english')\n",
    "stopwords.remove('not')"
   ]
  },
  {
   "cell_type": "markdown",
   "metadata": {
    "id": "q8iMQHmGhs7F"
   },
   "source": [
    "### Import Dataset and Select required Columns"
   ]
  },
  {
   "cell_type": "code",
   "execution_count": 7,
   "metadata": {
    "id": "-lf6nd3IbG_4"
   },
   "outputs": [],
   "source": [
    "dataset = pd.read_csv('labeled_data.csv')"
   ]
  },
  {
   "cell_type": "code",
   "execution_count": 8,
   "metadata": {
    "colab": {
     "base_uri": "https://localhost:8080/",
     "height": 204
    },
    "executionInfo": {
     "elapsed": 411,
     "status": "ok",
     "timestamp": 1614536638899,
     "user": {
      "displayName": "Sai Kiran",
      "photoUrl": "https://lh6.googleusercontent.com/-NpKD7j-5bmw/AAAAAAAAAAI/AAAAAAAAERw/Us3Nh0PvXcY/s64/photo.jpg",
      "userId": "08220908179961508425"
     },
     "user_tz": 300
    },
    "id": "3hlHiEj9dO6a",
    "outputId": "cb9f3b3b-1b06-40d2-e128-d1ea50a1bc90"
   },
   "outputs": [
    {
     "data": {
      "text/html": [
       "<div>\n",
       "<style scoped>\n",
       "    .dataframe tbody tr th:only-of-type {\n",
       "        vertical-align: middle;\n",
       "    }\n",
       "\n",
       "    .dataframe tbody tr th {\n",
       "        vertical-align: top;\n",
       "    }\n",
       "\n",
       "    .dataframe thead th {\n",
       "        text-align: right;\n",
       "    }\n",
       "</style>\n",
       "<table border=\"1\" class=\"dataframe\">\n",
       "  <thead>\n",
       "    <tr style=\"text-align: right;\">\n",
       "      <th></th>\n",
       "      <th>Unnamed: 0</th>\n",
       "      <th>count</th>\n",
       "      <th>hate_speech</th>\n",
       "      <th>offensive_language</th>\n",
       "      <th>neither</th>\n",
       "      <th>class</th>\n",
       "      <th>tweet</th>\n",
       "    </tr>\n",
       "  </thead>\n",
       "  <tbody>\n",
       "    <tr>\n",
       "      <th>0</th>\n",
       "      <td>0</td>\n",
       "      <td>3</td>\n",
       "      <td>0</td>\n",
       "      <td>0</td>\n",
       "      <td>3</td>\n",
       "      <td>2</td>\n",
       "      <td>!!! RT @mayasolovely: As a woman you shouldn't...</td>\n",
       "    </tr>\n",
       "    <tr>\n",
       "      <th>1</th>\n",
       "      <td>1</td>\n",
       "      <td>3</td>\n",
       "      <td>0</td>\n",
       "      <td>3</td>\n",
       "      <td>0</td>\n",
       "      <td>1</td>\n",
       "      <td>!!!!! RT @mleew17: boy dats cold...tyga dwn ba...</td>\n",
       "    </tr>\n",
       "    <tr>\n",
       "      <th>2</th>\n",
       "      <td>2</td>\n",
       "      <td>3</td>\n",
       "      <td>0</td>\n",
       "      <td>3</td>\n",
       "      <td>0</td>\n",
       "      <td>1</td>\n",
       "      <td>!!!!!!! RT @UrKindOfBrand Dawg!!!! RT @80sbaby...</td>\n",
       "    </tr>\n",
       "    <tr>\n",
       "      <th>3</th>\n",
       "      <td>3</td>\n",
       "      <td>3</td>\n",
       "      <td>0</td>\n",
       "      <td>2</td>\n",
       "      <td>1</td>\n",
       "      <td>1</td>\n",
       "      <td>!!!!!!!!! RT @C_G_Anderson: @viva_based she lo...</td>\n",
       "    </tr>\n",
       "    <tr>\n",
       "      <th>4</th>\n",
       "      <td>4</td>\n",
       "      <td>6</td>\n",
       "      <td>0</td>\n",
       "      <td>6</td>\n",
       "      <td>0</td>\n",
       "      <td>1</td>\n",
       "      <td>!!!!!!!!!!!!! RT @ShenikaRoberts: The shit you...</td>\n",
       "    </tr>\n",
       "  </tbody>\n",
       "</table>\n",
       "</div>"
      ],
      "text/plain": [
       "   Unnamed: 0  count  hate_speech  offensive_language  neither  class  \\\n",
       "0           0      3            0                   0        3      2   \n",
       "1           1      3            0                   3        0      1   \n",
       "2           2      3            0                   3        0      1   \n",
       "3           3      3            0                   2        1      1   \n",
       "4           4      6            0                   6        0      1   \n",
       "\n",
       "                                               tweet  \n",
       "0  !!! RT @mayasolovely: As a woman you shouldn't...  \n",
       "1  !!!!! RT @mleew17: boy dats cold...tyga dwn ba...  \n",
       "2  !!!!!!! RT @UrKindOfBrand Dawg!!!! RT @80sbaby...  \n",
       "3  !!!!!!!!! RT @C_G_Anderson: @viva_based she lo...  \n",
       "4  !!!!!!!!!!!!! RT @ShenikaRoberts: The shit you...  "
      ]
     },
     "execution_count": 8,
     "metadata": {},
     "output_type": "execute_result"
    }
   ],
   "source": [
    "dataset.head(5)"
   ]
  },
  {
   "cell_type": "markdown",
   "metadata": {
    "id": "VPhonaTXhvZE"
   },
   "source": [
    "### Drop Unwanted columns from dataset"
   ]
  },
  {
   "cell_type": "code",
   "execution_count": 9,
   "metadata": {
    "id": "AsRoCvctdNiQ"
   },
   "outputs": [],
   "source": [
    "data = dataset.iloc[:,-2:]"
   ]
  },
  {
   "cell_type": "code",
   "execution_count": 10,
   "metadata": {
    "colab": {
     "base_uri": "https://localhost:8080/",
     "height": 204
    },
    "executionInfo": {
     "elapsed": 436,
     "status": "ok",
     "timestamp": 1614536643599,
     "user": {
      "displayName": "Sai Kiran",
      "photoUrl": "https://lh6.googleusercontent.com/-NpKD7j-5bmw/AAAAAAAAAAI/AAAAAAAAERw/Us3Nh0PvXcY/s64/photo.jpg",
      "userId": "08220908179961508425"
     },
     "user_tz": 300
    },
    "id": "cCzwgXqlf1yb",
    "outputId": "0e154ec5-b2a5-4398-bd84-8b8cc6006eec"
   },
   "outputs": [
    {
     "data": {
      "text/html": [
       "<div>\n",
       "<style scoped>\n",
       "    .dataframe tbody tr th:only-of-type {\n",
       "        vertical-align: middle;\n",
       "    }\n",
       "\n",
       "    .dataframe tbody tr th {\n",
       "        vertical-align: top;\n",
       "    }\n",
       "\n",
       "    .dataframe thead th {\n",
       "        text-align: right;\n",
       "    }\n",
       "</style>\n",
       "<table border=\"1\" class=\"dataframe\">\n",
       "  <thead>\n",
       "    <tr style=\"text-align: right;\">\n",
       "      <th></th>\n",
       "      <th>class</th>\n",
       "      <th>tweet</th>\n",
       "    </tr>\n",
       "  </thead>\n",
       "  <tbody>\n",
       "    <tr>\n",
       "      <th>0</th>\n",
       "      <td>2</td>\n",
       "      <td>!!! RT @mayasolovely: As a woman you shouldn't...</td>\n",
       "    </tr>\n",
       "    <tr>\n",
       "      <th>1</th>\n",
       "      <td>1</td>\n",
       "      <td>!!!!! RT @mleew17: boy dats cold...tyga dwn ba...</td>\n",
       "    </tr>\n",
       "    <tr>\n",
       "      <th>2</th>\n",
       "      <td>1</td>\n",
       "      <td>!!!!!!! RT @UrKindOfBrand Dawg!!!! RT @80sbaby...</td>\n",
       "    </tr>\n",
       "    <tr>\n",
       "      <th>3</th>\n",
       "      <td>1</td>\n",
       "      <td>!!!!!!!!! RT @C_G_Anderson: @viva_based she lo...</td>\n",
       "    </tr>\n",
       "    <tr>\n",
       "      <th>4</th>\n",
       "      <td>1</td>\n",
       "      <td>!!!!!!!!!!!!! RT @ShenikaRoberts: The shit you...</td>\n",
       "    </tr>\n",
       "  </tbody>\n",
       "</table>\n",
       "</div>"
      ],
      "text/plain": [
       "   class                                              tweet\n",
       "0      2  !!! RT @mayasolovely: As a woman you shouldn't...\n",
       "1      1  !!!!! RT @mleew17: boy dats cold...tyga dwn ba...\n",
       "2      1  !!!!!!! RT @UrKindOfBrand Dawg!!!! RT @80sbaby...\n",
       "3      1  !!!!!!!!! RT @C_G_Anderson: @viva_based she lo...\n",
       "4      1  !!!!!!!!!!!!! RT @ShenikaRoberts: The shit you..."
      ]
     },
     "execution_count": 10,
     "metadata": {},
     "output_type": "execute_result"
    }
   ],
   "source": [
    "data.head(5)"
   ]
  },
  {
   "cell_type": "markdown",
   "metadata": {
    "id": "hUZxezwyh7Ti"
   },
   "source": [
    "### Checking Class Labels"
   ]
  },
  {
   "cell_type": "code",
   "execution_count": 11,
   "metadata": {
    "colab": {
     "base_uri": "https://localhost:8080/"
    },
    "executionInfo": {
     "elapsed": 409,
     "status": "ok",
     "timestamp": 1614536647651,
     "user": {
      "displayName": "Sai Kiran",
      "photoUrl": "https://lh6.googleusercontent.com/-NpKD7j-5bmw/AAAAAAAAAAI/AAAAAAAAERw/Us3Nh0PvXcY/s64/photo.jpg",
      "userId": "08220908179961508425"
     },
     "user_tz": 300
    },
    "id": "3f-Jp2fBcqI9",
    "outputId": "5f6b3d26-ba60-49ee-a24f-9d060da1455a"
   },
   "outputs": [
    {
     "data": {
      "text/plain": [
       "1    19190\n",
       "2     4163\n",
       "0     1430\n",
       "Name: class, dtype: int64"
      ]
     },
     "execution_count": 11,
     "metadata": {},
     "output_type": "execute_result"
    }
   ],
   "source": [
    "data['class'].value_counts()"
   ]
  },
  {
   "cell_type": "code",
   "execution_count": 12,
   "metadata": {
    "colab": {
     "base_uri": "https://localhost:8080/",
     "height": 355
    },
    "executionInfo": {
     "elapsed": 657,
     "status": "ok",
     "timestamp": 1614536649316,
     "user": {
      "displayName": "Sai Kiran",
      "photoUrl": "https://lh6.googleusercontent.com/-NpKD7j-5bmw/AAAAAAAAAAI/AAAAAAAAERw/Us3Nh0PvXcY/s64/photo.jpg",
      "userId": "08220908179961508425"
     },
     "user_tz": 300
    },
    "id": "FI3WoTc-y0S7",
    "outputId": "f540d635-a3dc-4f23-f3f7-3bdf126b2e54"
   },
   "outputs": [
    {
     "data": {
      "image/png": "[encoded data removed]",
      "text/plain": [
       "<Figure size 720x360 with 1 Axes>"
      ]
     },
     "metadata": {
      "needs_background": "light"
     },
     "output_type": "display_data"
    }
   ],
   "source": [
    "c0 = data['class'].value_counts()[0]\n",
    "c1 = data['class'].value_counts()[1]\n",
    "c2 = data['class'].value_counts()[2]\n",
    "plt.figure(figsize=(10,5))\n",
    "plt.hist(data['class'], bins = 3, color = 'lightblue', edgecolor = 'black')\n",
    "plt.xlabel('Class', fontsize = 14, fontweight = 'bold')\n",
    "plt.ylabel('Count', fontsize = 14, fontweight = 'bold')\n",
    "plt.title('Count of Class Labels', fontsize = 14, fontweight = 'bold')\n",
    "plt.xticks([0,1,2],['Hate', 'Offensive', 'Neither'])\n",
    "plt.text(0.25,c0, str(c0), fontsize=12)\n",
    "plt.text(0.9,c1, str(c1),fontsize=12)\n",
    "plt.text(1.75,c2, str(c2),fontsize=12)\n",
    "plt.show()"
   ]
  },
  {
   "cell_type": "markdown",
   "metadata": {
    "id": "sxAkQy1qh9hY"
   },
   "source": [
    "### Data Cleaning and Feature Selection"
   ]
  },
  {
   "cell_type": "markdown",
   "metadata": {
    "id": "4BhGz29Nd-WK"
   },
   "source": [
    "#### Create Stemming Object"
   ]
  },
  {
   "cell_type": "code",
   "execution_count": 13,
   "metadata": {
    "id": "Ho03N0jVbFDf"
   },
   "outputs": [],
   "source": [
    "ps = PorterStemmer()"
   ]
  },
  {
   "cell_type": "markdown",
   "metadata": {
    "id": "qpsqVVUDeBD4"
   },
   "source": [
    "#### Dictionary for Clitics Separation"
   ]
  },
  {
   "cell_type": "code",
   "execution_count": 14,
   "metadata": {
    "id": "Kwm1BhhdbX2E"
   },
   "outputs": [],
   "source": [
    "contractions = { \n",
    "    \"ain't\": \"am not\",\n",
    "    \"aren't\": \"are not\",\n",
    "    \"can't\": \"cannot\",\n",
    "    \"can't've\": \"cannot have\",\n",
    "    \"cause\": \"because\", \n",
    "    \"could've\": \"could have\",\n",
    "    \"couldn't\": \"could not\",\n",
    "    \"couldn't've\": \"could not have\",\n",
    "    \"didn't\": \"did not\",\n",
    "    \"doesn't\": \"does not\",\n",
    "    \"don't\": \"do not\",\n",
    "    \"hadn't\": \"had not\",\n",
    "    \"hadn't've\": \"had not have\",\n",
    "    \"hasn't\": \"has not\",\n",
    "    \"haven't\": \"have not\",\n",
    "    \"he'd\": \"he had\",\n",
    "    \"he'd've\": \"he would have\",\n",
    "    \"he'll\": \"he shall\",\n",
    "    \"he'll've\": \"he shall have\",\n",
    "    \"he's\": \"he has\",\n",
    "    \"how'd\": \"how did\",\n",
    "    \"how'd'y\": \"how do you\",\n",
    "    \"how'll\": \"how will\",\n",
    "    \"how's\": \"how has\",\n",
    "    \"i'd\": \"I had\",\n",
    "    \"i'd've\": \"I would have\",\n",
    "    \"i'll\": \"I shall\",\n",
    "    \"i'll've\": \"I shall have\",\n",
    "    \"i'm\": \"I am\",\n",
    "    \"i've\": \"I have\",\n",
    "    \"isn't\": \"is not\",\n",
    "    \"it'd\": \"it had\",\n",
    "    \"it'd've\": \"it would have\",\n",
    "    \"it'll\": \"it shall\",\n",
    "    \"it'll've\": \"it shall have\",\n",
    "    \"it's\": \"it has\",\n",
    "    \"let's\": \"let us\",\n",
    "    \"ma'am\": \"madam\",\n",
    "    \"mayn't\": \"may not\",\n",
    "    \"might've\": \"might have\",\n",
    "    \"mightn't\": \"might not\",\n",
    "    \"mightn't've\": \"might not have\",\n",
    "    \"must've\": \"must have\",\n",
    "    \"mustn't\": \"must not\",\n",
    "    \"mustn't've\": \"must not have\",\n",
    "    \"needn't\": \"need not\",\n",
    "    \"needn't've\": \"need not have\",\n",
    "    \"o'clock\": \"of the clock\",\n",
    "    \"oughtn't\": \"ought not\",\n",
    "    \"oughtn't've\": \"ought not have\",\n",
    "    \"shan't\": \"shall not\",\n",
    "    \"sha'n't\": \"shall not\",\n",
    "    \"shan't've\": \"shall not have\",\n",
    "    \"she'd\": \"she had\",\n",
    "    \"she'd've\": \"she would have\",\n",
    "    \"she'll\": \"she shall\",\n",
    "    \"she'll've\": \"she shall have\",\n",
    "    \"she's\": \"she has\",\n",
    "    \"should've\": \"should have\",\n",
    "    \"shouldn't\": \"should not\",\n",
    "    \"shouldn't've\": \"should not have\",\n",
    "    \"so've\": \"so have\",\n",
    "    \"so's\": \"so as\",\n",
    "    \"that'd\": \"that would\",\n",
    "    \"that'd've\": \"that would have\",\n",
    "    \"there'd\": \"there had\",\n",
    "    \"there'd've\": \"there would have\",\n",
    "    \"there's\": \"there has\",\n",
    "    \"they'd\": \"they had\",\n",
    "    \"they'd've\": \"they would have\",\n",
    "    \"they'll\": \"they shall\",\n",
    "    \"they'll've\": \"they shall have\",\n",
    "    \"they're\": \"they are\",\n",
    "    \"they've\": \"they have\",\n",
    "    \"to've\": \"to have\",\n",
    "    \"wasn't\": \"was not\",\n",
    "    \"we'd\": \"we had\",\n",
    "    \"we'd've\": \"we would have\",\n",
    "    \"we'll\": \"we will\",\n",
    "    \"we'll've\": \"we will have\",\n",
    "    \"we're\": \"we are\",\n",
    "    \"we've\": \"we have\",\n",
    "    \"weren't\": \"were not\",\n",
    "    \"what'll\": \"what shall\",\n",
    "    \"what'll've\": \"what shall have\",\n",
    "    \"what're\": \"what are\",\n",
    "    \"what's\": \"what has\",\n",
    "    \"what've\": \"what have\",\n",
    "    \"when's\": \"when has\",\n",
    "    \"when've\": \"when have\",\n",
    "    \"where'd\": \"where did\",\n",
    "    \"where's\": \"where has\",\n",
    "    \"where've\": \"where have\",\n",
    "    \"who'll\": \"who shall\",\n",
    "    \"who'll've\": \"who shall have\",\n",
    "    \"who's\": \"who has\",\n",
    "    \"who've\": \"who have\",\n",
    "    \"why's\": \"why has\",\n",
    "    \"why've\": \"why have\",\n",
    "    \"will've\": \"will have\",\n",
    "    \"won't\": \"will not\",\n",
    "    \"won't've\": \"will not have\",\n",
    "    \"would've\": \"would have\",\n",
    "    \"wouldn't\": \"would not\",\n",
    "    \"wouldn't've\": \"would not have\",\n",
    "    \"y'all\": \"you all\",\n",
    "    \"y'all'd\": \"you all would\",\n",
    "    \"y'all'd've\": \"you all would have\",\n",
    "    \"y'all're\": \"you all are\",\n",
    "    \"y'all've\": \"you all have\",\n",
    "    \"you'd\": \"you had\",\n",
    "    \"you'd've\": \"you would have\",\n",
    "    \"you'll\": \"you shall\",\n",
    "    \"you'll've\": \"you shall have\",\n",
    "    \"you're\": \"you are\",\n",
    "    \"you've\": \"you have\",\n",
    "    \"that's\": \"that is\",\n",
    "    \"ya\": \"you\",\n",
    "    \"im\": \"I am\"}"
   ]
  },
  {
   "cell_type": "markdown",
   "metadata": {
    "id": "YZ5Y9v4Kc1zU"
   },
   "source": [
    "#### Creating Corpus of Words"
   ]
  },
  {
   "cell_type": "code",
   "execution_count": 15,
   "metadata": {
    "id": "pGfTlMwMbUO_"
   },
   "outputs": [],
   "source": [
    "corpus = []\n",
    "for i in range(0, len(data)):\n",
    "    #Convert to Lower case\n",
    "    tweet = data['tweet'][i].lower()\n",
    "    \n",
    "    #Remove Usernames\n",
    "    tweet = re.sub('@[\\w]+','',tweet)\n",
    "    \n",
    "    #Remove URL\n",
    "    tweet = re.sub('http[s]?://(?:[a-zA-Z]|[0-9]|[$-_@.&+]|'\n",
    "                    '[!*\\(\\),]|(?:%[0-9a-fA-F][0-9a-fA-F]))+', '', tweet)\n",
    "    \n",
    "    #Split Clitics\n",
    "    tweet = tweet.split()\n",
    "    for j in range(0,len(tweet)):\n",
    "      if tweet[j] in contractions.keys():\n",
    "        tweet[j] = contractions[tweet[j]]\n",
    "    tweet = ' '.join(tweet)\n",
    "\n",
    "    #Remove Numbers and Special Characters\n",
    "    tweet = re.sub('[^a-zA-Z]', ' ', tweet).strip()\n",
    "\n",
    "    #Tokenization and Stemming words\n",
    "    tweet = tweet.split()\n",
    "    tweet = [ps.stem(word) for word in tweet if not word in set(stopwords)]\n",
    "    tweet = ' '.join(tweet)\n",
    "    corpus.append(tweet)"
   ]
  },
  {
   "cell_type": "markdown",
   "metadata": {
    "id": "g4FTHSXCiDHW"
   },
   "source": [
    "### Create Bag of Words using TfIdfVectorizer"
   ]
  },
  {
   "cell_type": "code",
   "execution_count": 16,
   "metadata": {
    "id": "G4gizshmbZad"
   },
   "outputs": [],
   "source": [
    "tf = TfidfVectorizer(max_features=5000)\n",
    "x = tf.fit_transform(corpus).toarray()"
   ]
  },
  {
   "cell_type": "code",
   "execution_count": 17,
   "metadata": {
    "id": "O8xXi31EbfUV"
   },
   "outputs": [],
   "source": [
    "y = data.iloc[:, 0].values"
   ]
  },
  {
   "cell_type": "markdown",
   "metadata": {
    "id": "j_NmYQXJASvK"
   },
   "source": [
    "### Split data into Train and Test Sets"
   ]
  },
  {
   "cell_type": "code",
   "execution_count": 18,
   "metadata": {
    "id": "Gzie_Jj4ASDP"
   },
   "outputs": [],
   "source": [
    "x_train, x_test, y_train, y_test = train_test_split(x, y, test_size = 0.25, random_state = 0)"
   ]
  },
  {
   "cell_type": "markdown",
   "metadata": {
    "id": "xw8QEInAiQu0"
   },
   "source": [
    "### Applying Logistic Regression Model with 5-Fold Cross Validation"
   ]
  },
  {
   "cell_type": "code",
   "execution_count": 19,
   "metadata": {
    "id": "BNmjJLajbkzT"
   },
   "outputs": [],
   "source": [
    "LR_classifier = LogisticRegression(random_state = 0, n_jobs = -1)"
   ]
  },
  {
   "cell_type": "markdown",
   "metadata": {
    "id": "b-creE79c_Tp"
   },
   "source": [
    "#### 5-Fold Cross Validation"
   ]
  },
  {
   "cell_type": "code",
   "execution_count": 20,
   "metadata": {
    "colab": {
     "base_uri": "https://localhost:8080/",
     "height": 392
    },
    "executionInfo": {
     "elapsed": 4927,
     "status": "error",
     "timestamp": 1614536864998,
     "user": {
      "displayName": "Sai Kiran",
      "photoUrl": "https://lh6.googleusercontent.com/-NpKD7j-5bmw/AAAAAAAAAAI/AAAAAAAAERw/Us3Nh0PvXcY/s64/photo.jpg",
      "userId": "08220908179961508425"
     },
     "user_tz": 300
    },
    "id": "zabi1waSi0d5",
    "outputId": "943856d1-77ec-41dc-de2c-f018271d8202"
   },
   "outputs": [
    {
     "data": {
      "text/plain": [
       "0.9002530715698903"
      ]
     },
     "execution_count": 20,
     "metadata": {},
     "output_type": "execute_result"
    }
   ],
   "source": [
    "CV_LR = cross_val_score(LR_classifier, x_train, y_train,cv = 5, n_jobs = -1)\n",
    "CV_LR.mean()"
   ]
  },
  {
   "cell_type": "markdown",
   "metadata": {
    "id": "mSrjY2AGdC2B"
   },
   "source": [
    "#### Fitting Training Data"
   ]
  },
  {
   "cell_type": "code",
   "execution_count": 21,
   "metadata": {
    "colab": {
     "base_uri": "https://localhost:8080/"
    },
    "executionInfo": {
     "elapsed": 51885,
     "status": "ok",
     "timestamp": 1614537100505,
     "user": {
      "displayName": "Sai Kiran",
      "photoUrl": "https://lh6.googleusercontent.com/-NpKD7j-5bmw/AAAAAAAAAAI/AAAAAAAAERw/Us3Nh0PvXcY/s64/photo.jpg",
      "userId": "08220908179961508425"
     },
     "user_tz": 300
    },
    "id": "vieMpY0Li-AU",
    "outputId": "975891b0-54ec-4036-a0fa-7ad44089426b"
   },
   "outputs": [
    {
     "data": {
      "text/plain": [
       "LogisticRegression(n_jobs=-1, random_state=0)"
      ]
     },
     "execution_count": 21,
     "metadata": {},
     "output_type": "execute_result"
    }
   ],
   "source": [
    "LR_classifier.fit(x_train,y_train)"
   ]
  },
  {
   "cell_type": "markdown",
   "metadata": {
    "id": "RpQlwmm-dGAh"
   },
   "source": [
    "#### Confusion Matrix"
   ]
  },
  {
   "cell_type": "code",
   "execution_count": 22,
   "metadata": {
    "colab": {
     "base_uri": "https://localhost:8080/",
     "height": 279
    },
    "executionInfo": {
     "elapsed": 645,
     "status": "ok",
     "timestamp": 1614553146165,
     "user": {
      "displayName": "Sai Kiran",
      "photoUrl": "https://lh6.googleusercontent.com/-NpKD7j-5bmw/AAAAAAAAAAI/AAAAAAAAERw/Us3Nh0PvXcY/s64/photo.jpg",
      "userId": "08220908179961508425"
     },
     "user_tz": 300
    },
    "id": "r5XqxzSxZ1nO",
    "outputId": "3e4674d3-c5c4-4a0c-b7a4-e9096f071eab"
   },
   "outputs": [
    {
     "data": {
      "image/png": "[encoded data removed]",
      "text/plain": [
       "<Figure size 432x288 with 2 Axes>"
      ]
     },
     "metadata": {
      "needs_background": "light"
     },
     "output_type": "display_data"
    }
   ],
   "source": [
    "plot_confusion_matrix(LR_classifier,x_test, y_test, labels = [0,1,2], values_format = '.4f', cmap = plt.cm.Blues,\n",
    "                      display_labels = ['Hate','Offensive','Neither'], normalize = 'true')\n",
    "plt.show()"
   ]
  },
  {
   "cell_type": "markdown",
   "metadata": {
    "id": "4AFpl6SvdITc"
   },
   "source": [
    "#### Classification Report"
   ]
  },
  {
   "cell_type": "code",
   "execution_count": 23,
   "metadata": {
    "colab": {
     "base_uri": "https://localhost:8080/"
    },
    "executionInfo": {
     "elapsed": 395,
     "status": "ok",
     "timestamp": 1614551569083,
     "user": {
      "displayName": "Sai Kiran",
      "photoUrl": "https://lh6.googleusercontent.com/-NpKD7j-5bmw/AAAAAAAAAAI/AAAAAAAAERw/Us3Nh0PvXcY/s64/photo.jpg",
      "userId": "08220908179961508425"
     },
     "user_tz": 300
    },
    "id": "Bvz6hDCCi_Ai",
    "outputId": "aad5494f-00ed-4f81-f6b0-72d9f724e917"
   },
   "outputs": [
    {
     "name": "stdout",
     "output_type": "stream",
     "text": [
      "              precision    recall  f1-score   support\n",
      "\n",
      "        Hate       0.55      0.14      0.23       359\n",
      "   Offensive       0.92      0.97      0.94      4800\n",
      "     Neither       0.85      0.86      0.85      1037\n",
      "\n",
      "    accuracy                           0.90      6196\n",
      "   macro avg       0.77      0.66      0.67      6196\n",
      "weighted avg       0.88      0.90      0.89      6196\n",
      "\n"
     ]
    }
   ],
   "source": [
    "y_pred_LR = LR_classifier.predict(x_test)\n",
    "print(classification_report(y_test, y_pred_LR, target_names=['Hate','Offensive','Neither']))"
   ]
  },
  {
   "cell_type": "markdown",
   "metadata": {
    "id": "lefv8tGiia8v"
   },
   "source": [
    "### Applying Random Forest Model with 5-fold cross validation"
   ]
  },
  {
   "cell_type": "code",
   "execution_count": 24,
   "metadata": {
    "id": "rQ8Z7Px0btu1"
   },
   "outputs": [],
   "source": [
    "RF_classifier = RandomForestClassifier(n_estimators = 100, random_state = 0, n_jobs = -1)"
   ]
  },
  {
   "cell_type": "markdown",
   "metadata": {
    "id": "XznpO_KadXKH"
   },
   "source": [
    "#### 5-Fold Cross Validation"
   ]
  },
  {
   "cell_type": "code",
   "execution_count": 25,
   "metadata": {
    "colab": {
     "base_uri": "https://localhost:8080/"
    },
    "executionInfo": {
     "elapsed": 577,
     "status": "ok",
     "timestamp": 1614321794851,
     "user": {
      "displayName": "Sai Kiran",
      "photoUrl": "https://lh6.googleusercontent.com/-NpKD7j-5bmw/AAAAAAAAAAI/AAAAAAAAERw/Us3Nh0PvXcY/s64/photo.jpg",
      "userId": "08220908179961508425"
     },
     "user_tz": 300
    },
    "id": "nuk5780ii2c8",
    "outputId": "f35c27d6-e6c7-4d10-b704-dc70cd2715be"
   },
   "outputs": [
    {
     "data": {
      "text/plain": [
       "0.9068706174312432"
      ]
     },
     "execution_count": 25,
     "metadata": {},
     "output_type": "execute_result"
    }
   ],
   "source": [
    "CV_RF = cross_val_score(RF_classifier, x_train, y_train, cv = 5, n_jobs = -1)\n",
    "CV_RF.mean()"
   ]
  },
  {
   "cell_type": "markdown",
   "metadata": {
    "id": "Teph6caTdbm-"
   },
   "source": [
    "#### Fitting Training Data"
   ]
  },
  {
   "cell_type": "code",
   "execution_count": 26,
   "metadata": {
    "colab": {
     "base_uri": "https://localhost:8080/"
    },
    "executionInfo": {
     "elapsed": 155779,
     "status": "ok",
     "timestamp": 1614551420635,
     "user": {
      "displayName": "Sai Kiran",
      "photoUrl": "https://lh6.googleusercontent.com/-NpKD7j-5bmw/AAAAAAAAAAI/AAAAAAAAERw/Us3Nh0PvXcY/s64/photo.jpg",
      "userId": "08220908179961508425"
     },
     "user_tz": 300
    },
    "id": "x_68-97Pi86Z",
    "outputId": "0a44ec96-79ff-4ecc-fe83-b3ced6651e5e"
   },
   "outputs": [
    {
     "data": {
      "text/plain": [
       "RandomForestClassifier(n_jobs=-1, random_state=0)"
      ]
     },
     "execution_count": 26,
     "metadata": {},
     "output_type": "execute_result"
    }
   ],
   "source": [
    "RF_classifier.fit(x_train, y_train)"
   ]
  },
  {
   "cell_type": "markdown",
   "metadata": {
    "id": "ZTRgmV_7dhbC"
   },
   "source": [
    "#### Confusion Matrix"
   ]
  },
  {
   "cell_type": "code",
   "execution_count": 27,
   "metadata": {
    "colab": {
     "base_uri": "https://localhost:8080/",
     "height": 279
    },
    "executionInfo": {
     "elapsed": 2251,
     "status": "ok",
     "timestamp": 1614551585848,
     "user": {
      "displayName": "Sai Kiran",
      "photoUrl": "https://lh6.googleusercontent.com/-NpKD7j-5bmw/AAAAAAAAAAI/AAAAAAAAERw/Us3Nh0PvXcY/s64/photo.jpg",
      "userId": "08220908179961508425"
     },
     "user_tz": 300
    },
    "id": "seh2UjLJbqvp",
    "outputId": "a85e2c10-d1d1-4f0f-e6dd-58ba7b7d035f"
   },
   "outputs": [
    {
     "data": {
      "image/png": "[encoded data removed]",
      "text/plain": [
       "<Figure size 432x288 with 2 Axes>"
      ]
     },
     "metadata": {
      "needs_background": "light"
     },
     "output_type": "display_data"
    }
   ],
   "source": [
    "plot_confusion_matrix(RF_classifier,x_test, y_test, labels = [0,1,2], values_format = '.4f', cmap = plt.cm.Blues,\n",
    "                      display_labels = ['Hate','Offensive','Neither'], normalize = 'true')\n",
    "plt.show()"
   ]
  },
  {
   "cell_type": "markdown",
   "metadata": {
    "id": "klrq9YAedjal"
   },
   "source": [
    "#### Classification Report"
   ]
  },
  {
   "cell_type": "code",
   "execution_count": 28,
   "metadata": {
    "colab": {
     "base_uri": "https://localhost:8080/"
    },
    "executionInfo": {
     "elapsed": 1550,
     "status": "ok",
     "timestamp": 1614551609918,
     "user": {
      "displayName": "Sai Kiran",
      "photoUrl": "https://lh6.googleusercontent.com/-NpKD7j-5bmw/AAAAAAAAAAI/AAAAAAAAERw/Us3Nh0PvXcY/s64/photo.jpg",
      "userId": "08220908179961508425"
     },
     "user_tz": 300
    },
    "id": "u_X7SYlMjBjd",
    "outputId": "4f37c796-9920-4407-dfe5-389321696f84"
   },
   "outputs": [
    {
     "name": "stdout",
     "output_type": "stream",
     "text": [
      "              precision    recall  f1-score   support\n",
      "\n",
      "        Hate       0.58      0.13      0.21       359\n",
      "   Offensive       0.93      0.96      0.95      4800\n",
      "     Neither       0.82      0.91      0.87      1037\n",
      "\n",
      "    accuracy                           0.91      6196\n",
      "   macro avg       0.78      0.67      0.67      6196\n",
      "weighted avg       0.89      0.91      0.89      6196\n",
      "\n"
     ]
    }
   ],
   "source": [
    "y_pred_RF = RF_classifier.predict(x_test)\n",
    "print(classification_report(y_test, y_pred_RF, target_names=['Hate','Offensive','Neither']))"
   ]
  },
  {
   "cell_type": "markdown",
   "metadata": {
    "id": "oDYeVRN-iWeZ"
   },
   "source": [
    "### Applying Linear SVM Model with 5-fold cross validation"
   ]
  },
  {
   "cell_type": "code",
   "execution_count": 29,
   "metadata": {
    "id": "MljJEPvNbqh2"
   },
   "outputs": [],
   "source": [
    "LSVM_classifier = LinearSVC(random_state = 0)"
   ]
  },
  {
   "cell_type": "markdown",
   "metadata": {
    "id": "BDrkZa1fdmEG"
   },
   "source": [
    "#### 5-Fold Cross Validation"
   ]
  },
  {
   "cell_type": "code",
   "execution_count": 30,
   "metadata": {
    "colab": {
     "base_uri": "https://localhost:8080/"
    },
    "executionInfo": {
     "elapsed": 502,
     "status": "ok",
     "timestamp": 1614321355265,
     "user": {
      "displayName": "Sai Kiran",
      "photoUrl": "https://lh6.googleusercontent.com/-NpKD7j-5bmw/AAAAAAAAAAI/AAAAAAAAERw/Us3Nh0PvXcY/s64/photo.jpg",
      "userId": "08220908179961508425"
     },
     "user_tz": 300
    },
    "id": "5UE0tf-2i1fM",
    "outputId": "35b85369-4806-4ea5-8be0-fc8415677be1"
   },
   "outputs": [
    {
     "data": {
      "text/plain": [
       "0.8940659369603307"
      ]
     },
     "execution_count": 30,
     "metadata": {},
     "output_type": "execute_result"
    }
   ],
   "source": [
    "CV_LSVM = cross_val_score(LSVM_classifier, x_train, y_train, cv = 5, n_jobs = -1)\n",
    "CV_LSVM.mean()"
   ]
  },
  {
   "cell_type": "markdown",
   "metadata": {
    "id": "hooPE58ZdoeC"
   },
   "source": [
    "#### Fit Training Data"
   ]
  },
  {
   "cell_type": "code",
   "execution_count": 31,
   "metadata": {
    "colab": {
     "base_uri": "https://localhost:8080/"
    },
    "executionInfo": {
     "elapsed": 1112,
     "status": "ok",
     "timestamp": 1614551220307,
     "user": {
      "displayName": "Sai Kiran",
      "photoUrl": "https://lh6.googleusercontent.com/-NpKD7j-5bmw/AAAAAAAAAAI/AAAAAAAAERw/Us3Nh0PvXcY/s64/photo.jpg",
      "userId": "08220908179961508425"
     },
     "user_tz": 300
    },
    "id": "hlRQVRYYi7x5",
    "outputId": "cc3297ea-cb70-4dae-aceb-8b88b9c9ebad"
   },
   "outputs": [
    {
     "data": {
      "text/plain": [
       "LinearSVC(random_state=0)"
      ]
     },
     "execution_count": 31,
     "metadata": {},
     "output_type": "execute_result"
    }
   ],
   "source": [
    "LSVM_classifier.fit(x_train, y_train)"
   ]
  },
  {
   "cell_type": "markdown",
   "metadata": {
    "id": "mvvv3N1ddq22"
   },
   "source": [
    "#### Confusion Matrix"
   ]
  },
  {
   "cell_type": "code",
   "execution_count": 32,
   "metadata": {
    "colab": {
     "base_uri": "https://localhost:8080/",
     "height": 279
    },
    "executionInfo": {
     "elapsed": 732,
     "status": "ok",
     "timestamp": 1614553158211,
     "user": {
      "displayName": "Sai Kiran",
      "photoUrl": "https://lh6.googleusercontent.com/-NpKD7j-5bmw/AAAAAAAAAAI/AAAAAAAAERw/Us3Nh0PvXcY/s64/photo.jpg",
      "userId": "08220908179961508425"
     },
     "user_tz": 300
    },
    "id": "cDkUf6q7bzRw",
    "outputId": "feb391b5-dc2c-4ac5-bdf4-e770e93311f8"
   },
   "outputs": [
    {
     "data": {
      "image/png": "[encoded data removed]",
      "text/plain": [
       "<Figure size 432x288 with 2 Axes>"
      ]
     },
     "metadata": {
      "needs_background": "light"
     },
     "output_type": "display_data"
    }
   ],
   "source": [
    "plot_confusion_matrix(LSVM_classifier,x_test, y_test, labels = [0,1,2], values_format = '.4f', cmap = plt.cm.Blues,\n",
    "                      display_labels = ['Hate','Offensive','Neither'], normalize = 'true')\n",
    "plt.show()"
   ]
  },
  {
   "cell_type": "markdown",
   "metadata": {
    "id": "2bVNwstfds1q"
   },
   "source": [
    "#### Classification Report"
   ]
  },
  {
   "cell_type": "code",
   "execution_count": 33,
   "metadata": {
    "colab": {
     "base_uri": "https://localhost:8080/"
    },
    "executionInfo": {
     "elapsed": 419,
     "status": "ok",
     "timestamp": 1614551674094,
     "user": {
      "displayName": "Sai Kiran",
      "photoUrl": "https://lh6.googleusercontent.com/-NpKD7j-5bmw/AAAAAAAAAAI/AAAAAAAAERw/Us3Nh0PvXcY/s64/photo.jpg",
      "userId": "08220908179961508425"
     },
     "user_tz": 300
    },
    "id": "9qIt1dGCjCgE",
    "outputId": "8a5577a1-e7d9-4916-e7b6-bfdd74ad31fc"
   },
   "outputs": [
    {
     "name": "stdout",
     "output_type": "stream",
     "text": [
      "              precision    recall  f1-score   support\n",
      "\n",
      "        Hate       0.47      0.22      0.30       359\n",
      "   Offensive       0.92      0.96      0.94      4800\n",
      "     Neither       0.83      0.84      0.84      1037\n",
      "\n",
      "    accuracy                           0.89      6196\n",
      "   macro avg       0.74      0.67      0.69      6196\n",
      "weighted avg       0.88      0.89      0.88      6196\n",
      "\n"
     ]
    }
   ],
   "source": [
    "y_pred_LSVM = LSVM_classifier.predict(x_test)\n",
    "print(classification_report(y_test, y_pred_LSVM, target_names=['Hate','Offensive','Neither']))"
   ]
  },
  {
   "cell_type": "markdown",
   "metadata": {
    "id": "Vm0jBBIKXs1_"
   },
   "source": [
    "### Applying Kernel SVM with 5-fold Cross Validation"
   ]
  },
  {
   "cell_type": "code",
   "execution_count": 34,
   "metadata": {
    "id": "POpOVv9YXx02"
   },
   "outputs": [],
   "source": [
    "KSVM_classifier = SVC(kernel = 'rbf', random_state = 0)"
   ]
  },
  {
   "cell_type": "markdown",
   "metadata": {
    "id": "_smerlf2dwBg"
   },
   "source": [
    "#### 5-Fold Cross Validation"
   ]
  },
  {
   "cell_type": "code",
   "execution_count": 35,
   "metadata": {
    "id": "Y4AD_0kDXzBP"
   },
   "outputs": [
    {
     "data": {
      "text/plain": [
       "0.9036963471122533"
      ]
     },
     "execution_count": 35,
     "metadata": {},
     "output_type": "execute_result"
    }
   ],
   "source": [
    "CV_KSVM = cross_val_score(KSVM_classifier, x_train, y_train, cv = 5, n_jobs = -1)\n",
    "CV_KSVM.mean()"
   ]
  },
  {
   "cell_type": "markdown",
   "metadata": {
    "id": "DxsUwa8ddybG"
   },
   "source": [
    "#### Fit Training Data"
   ]
  },
  {
   "cell_type": "code",
   "execution_count": 36,
   "metadata": {
    "id": "4lJd6DHaXz41"
   },
   "outputs": [
    {
     "data": {
      "text/plain": [
       "SVC(random_state=0)"
      ]
     },
     "execution_count": 36,
     "metadata": {},
     "output_type": "execute_result"
    }
   ],
   "source": [
    "KSVM_classifier.fit(x_train, y_train)"
   ]
  },
  {
   "cell_type": "markdown",
   "metadata": {
    "id": "zji6Wxqsd0Ai"
   },
   "source": [
    "#### Confusion Matrix(Test Set)"
   ]
  },
  {
   "cell_type": "code",
   "execution_count": 37,
   "metadata": {
    "colab": {
     "background_save": true
    },
    "id": "diXHIe8PcFN5",
    "outputId": "472dcd0a-33b6-48c0-a928-208e6869a259"
   },
   "outputs": [
    {
     "data": {
      "image/png": "[encoded data removed]",
      "text/plain": [
       "<Figure size 432x288 with 2 Axes>"
      ]
     },
     "metadata": {
      "needs_background": "light"
     },
     "output_type": "display_data"
    }
   ],
   "source": [
    "plot_confusion_matrix(KSVM_classifier,x_test, y_test, labels = [0,1,2], values_format = '.4f', cmap = plt.cm.Blues,\n",
    "                      display_labels = ['Hate','Offensive','Neither'], normalize = 'true')\n",
    "plt.show()"
   ]
  },
  {
   "cell_type": "markdown",
   "metadata": {
    "id": "kayNnXcbd2W3"
   },
   "source": [
    "#### Classification Report(Test Set)"
   ]
  },
  {
   "cell_type": "code",
   "execution_count": 38,
   "metadata": {
    "id": "YkB5Nc6XXzrX"
   },
   "outputs": [
    {
     "name": "stdout",
     "output_type": "stream",
     "text": [
      "              precision    recall  f1-score   support\n",
      "\n",
      "        Hate       0.61      0.13      0.22       359\n",
      "   Offensive       0.92      0.97      0.94      4800\n",
      "     Neither       0.85      0.88      0.87      1037\n",
      "\n",
      "    accuracy                           0.91      6196\n",
      "   macro avg       0.79      0.66      0.68      6196\n",
      "weighted avg       0.89      0.91      0.89      6196\n",
      "\n"
     ]
    }
   ],
   "source": [
    "y_pred_KSVM = KSVM_classifier.predict(x_test)\n",
    "print(classification_report(y_test, y_pred_KSVM, target_names=['Hate','Offensive','Neither']))"
   ]
  }
 ],
 "metadata": {
  "colab": {
   "authorship_tag": "ABX9TyNIAi3ZB534NMEks5qAheh3",
   "collapsed_sections": [],
   "name": "Project.ipynb",
   "provenance": [],
   "toc_visible": true
  },
  "kernelspec": {
   "display_name": "Python 3",
   "language": "python",
   "name": "python3"
  },
  "language_info": {
   "codemirror_mode": {
    "name": "ipython",
    "version": 3
   },
   "file_extension": ".py",
   "mimetype": "text/x-python",
   "name": "python",
   "nbconvert_exporter": "python",
   "pygments_lexer": "ipython3",
   "version": "3.8.3"
  }
 },
 "nbformat": 4,
 "nbformat_minor": 4
}
